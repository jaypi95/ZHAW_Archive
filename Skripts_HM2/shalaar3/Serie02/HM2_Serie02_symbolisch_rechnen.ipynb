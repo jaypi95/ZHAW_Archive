{
 "cells": [
  {
   "cell_type": "markdown",
   "metadata": {},
   "source": [
    "# Symbolisch Rechnen mit Python\n",
    "\n",
    "#### Erstellt von B. Miesch, 11.02.2021 für die Vorlesung Höhere Mathematik 2 der ZHAW SoE, mit Anpassungen von R. Knaack\n",
    "\n",
    "Wir wollen hier das Paket `sympy` kennen lernen, welches symbolisches Rechnen mit Python ermöglicht. Dies wollen wir nutzen, um Ableitungen und die Jacobimatrix einer Funktion zu berechnen."
   ]
  },
  {
   "cell_type": "code",
   "execution_count": null,
   "metadata": {},
   "outputs": [],
   "source": [
    "import sympy as sp"
   ]
  },
  {
   "cell_type": "markdown",
   "metadata": {},
   "source": [
    "Zuerst müssen wir unsere Variablen deklarieren, die wir anschliessend verwenden möchten."
   ]
  },
  {
   "cell_type": "code",
   "execution_count": null,
   "metadata": {},
   "outputs": [],
   "source": [
    "x, y, z = sp.symbols('x y z')"
   ]
  },
  {
   "cell_type": "markdown",
   "metadata": {},
   "source": [
    "Mit diesen Variabeln können wir nun Ausdrücke formen."
   ]
  },
  {
   "cell_type": "code",
   "execution_count": null,
   "metadata": {},
   "outputs": [],
   "source": [
    "f1 = x**2 + y - 3*z\n",
    "print(f1)"
   ]
  },
  {
   "cell_type": "markdown",
   "metadata": {},
   "source": [
    "Dabei stehen uns auch bekannte Funktionen wie Exponentialfunktion, Logarithmus, Sinus und Kosinus zur Verfügung."
   ]
  },
  {
   "cell_type": "code",
   "execution_count": null,
   "metadata": {},
   "outputs": [],
   "source": [
    "f2 = sp.exp(y) - sp.sin(z)\n",
    "print(f2)"
   ]
  },
  {
   "cell_type": "markdown",
   "metadata": {},
   "source": [
    "Variabeln können substituiert werden."
   ]
  },
  {
   "cell_type": "code",
   "execution_count": null,
   "metadata": {},
   "outputs": [],
   "source": [
    "print(f1.subs(x,2))"
   ]
  },
  {
   "cell_type": "code",
   "execution_count": null,
   "metadata": {},
   "outputs": [],
   "source": [
    "print(f2.subs(y,f1))"
   ]
  },
  {
   "cell_type": "markdown",
   "metadata": {},
   "source": [
    "So können wir auch eine Funktion an einer bestimmten Stelle bestimmen (E steht hier für die Eulersche Zahl exp(1)=2.718...)"
   ]
  },
  {
   "cell_type": "code",
   "execution_count": null,
   "metadata": {},
   "outputs": [],
   "source": [
    "h = f2.subs([(y,1),(z,5)])\n",
    "print(h)"
   ]
  },
  {
   "cell_type": "markdown",
   "metadata": {},
   "source": [
    "Wollen wir diesen Ausdruck numerisch auswerten, so können wir den Befehl `evalf()` verwenden"
   ]
  },
  {
   "cell_type": "code",
   "execution_count": null,
   "metadata": {},
   "outputs": [],
   "source": [
    "print(h.evalf())"
   ]
  },
  {
   "cell_type": "markdown",
   "metadata": {},
   "source": [
    "Wir können auch ohne Probleme einen Ausdruck nach einer der Variablen ableiten."
   ]
  },
  {
   "cell_type": "code",
   "execution_count": null,
   "metadata": {},
   "outputs": [],
   "source": [
    "print(sp.diff(f2,z))"
   ]
  },
  {
   "cell_type": "markdown",
   "metadata": {},
   "source": [
    "Für vektorwertige Funktionen verwenden wir den typ `sp.Matrix`. Betrachten wir die Funktion\n",
    "$$\n",
    "f(x,y,z)=\\left(\\begin{array}{l}\n",
    "f_1(x,y,z) = x^2 + y - 3z\\\\\n",
    "f_2(x,y,z) = \\exp(y) - \\sin(z)\\\\\n",
    "\\end{array}\\right)\n",
    "$$\n"
   ]
  },
  {
   "cell_type": "code",
   "execution_count": null,
   "metadata": {},
   "outputs": [],
   "source": [
    "f = sp.Matrix([f1,f2])\n",
    "print(f)"
   ]
  },
  {
   "cell_type": "markdown",
   "metadata": {},
   "source": [
    "Um die Jacobi-Matrix von F zu berechnen, muss unser Argument ein Vektor aus den Variablen sein. Dann brauchen wir nur die Funktion `jacobian` aufzurufen."
   ]
  },
  {
   "cell_type": "code",
   "execution_count": null,
   "metadata": {},
   "outputs": [],
   "source": [
    "X = sp.Matrix([x,y,z])\n",
    "Df = f.jacobian(X)\n",
    "print(Df)"
   ]
  },
  {
   "cell_type": "markdown",
   "metadata": {},
   "source": [
    "Und nun können wir auch Werte für x, y und z einfügen."
   ]
  },
  {
   "cell_type": "code",
   "execution_count": null,
   "metadata": {},
   "outputs": [],
   "source": [
    "Df0 = Df.subs([(x,3),(y,4),(z,5)])\n",
    "print(Df0)"
   ]
  },
  {
   "cell_type": "code",
   "execution_count": null,
   "metadata": {},
   "outputs": [],
   "source": [
    "print(Df0.evalf())"
   ]
  },
  {
   "cell_type": "markdown",
   "metadata": {},
   "source": [
    "Oft möchten wir die symbolisch berechneten Funktionen an verschiedenen Stellen auswerten. Dazu wäre es hilfreich, diesen Ausdruck als herkömmliche Funktion zu verwenden. Diese Möglichkeit bietet `sympy` mit dem Befehl `lambdify`"
   ]
  },
  {
   "cell_type": "code",
   "execution_count": null,
   "metadata": {},
   "outputs": [],
   "source": [
    "func1 = sp.lambdify((x,y,z), f)\n",
    "print(func1(7,8,9))"
   ]
  },
  {
   "cell_type": "markdown",
   "metadata": {},
   "source": [
    "Wir können aus f auch eine Funktion erstellen, die mit einem np.array aufgerufen werden kann und auch einen solchen zurück gibt."
   ]
  },
  {
   "cell_type": "code",
   "execution_count": null,
   "metadata": {},
   "outputs": [],
   "source": [
    "import numpy as np\n",
    "\n",
    "func = sp.lambdify([(x,y,z)], f, \"numpy\")\n",
    "jac = sp.lambdify([(x,y,z)], Df, \"numpy\")\n",
    "v = np.array([7,8,9])\n",
    "print(func(v))\n",
    "print(jac(v))"
   ]
  }
 ],
 "metadata": {
  "kernelspec": {
   "display_name": "Python 3",
   "language": "python",
   "name": "python3"
  },
  "language_info": {
   "codemirror_mode": {
    "name": "ipython",
    "version": 3
   },
   "file_extension": ".py",
   "mimetype": "text/x-python",
   "name": "python",
   "nbconvert_exporter": "python",
   "pygments_lexer": "ipython3",
   "version": "3.8.5"
  }
 },
 "nbformat": 4,
 "nbformat_minor": 4
}
